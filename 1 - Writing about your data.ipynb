{
 "cells": [
  {
   "cell_type": "markdown",
   "metadata": {},
   "source": [
    "# Regression modeling in practice\n",
    "\n",
    "## 1 - Writing about your data\n",
    "\n",
    "**Author**: Juan Luis Cano Rodríguez"
   ]
  },
  {
   "cell_type": "markdown",
   "metadata": {},
   "source": [
    "### Sample\n",
    "\n",
    "This dataset contains $N = 384\\,385$ individual Mars impact craters (despite the report saying it's 384 383) with a diameter greater or equal than one kilometer. 79 % of the craters have a diameter lower than 3 km ($N = 304\\,490$), while the other 21 % have a diameter greater or equal than 3 km and were studied in more detail ($N = 79\\,855$)."
   ]
  },
  {
   "cell_type": "markdown",
   "metadata": {},
   "source": [
    "### Procedure\n",
    "\n",
    "The craters were identified using a variety of instruments on board of several NASA spacecraft, including Viking MDIM, Mars Reconnaissance Orbiter CTX, Mars Global Surveyor MOLA, and specially Mars Odyssey THEMIS, which supported \"the bulk of crater identification and classification\". The images were then post-processed using ArcGIS, a geographic information system, to precisely locate the craters on the martian surface using manually selected points around their rim. Finally, all craters were fitted to circles and ellipses using a least squares approach written for the software Igor Pro. The companion paper of the database was published in 2012."
   ]
  },
  {
   "cell_type": "markdown",
   "metadata": {},
   "source": [
    "### Measures\n",
    "\n",
    "Mainly geometrical properties of the craters were measured, including parameters of the fitted circles and ellipses (radius, major and minor axes), location on the martian surface (longitude and latitude) and elevation of the points that identify the crater rim. There are also notes about the morphology of the crater are included in free text form and, finally, the name of the crater is included when available."
   ]
  },
  {
   "cell_type": "markdown",
   "metadata": {},
   "source": [
    "## Supporting code"
   ]
  },
  {
   "cell_type": "code",
   "execution_count": 1,
   "metadata": {
    "collapsed": false
   },
   "outputs": [
    {
     "data": {
      "text/html": [
       "\n",
       "    <div class=\"bk-root\">\n",
       "        <a href=\"http://bokeh.pydata.org\" target=\"_blank\" class=\"bk-logo bk-logo-small bk-logo-notebook\"></a>\n",
       "        <span id=\"c40eb946-8059-4099-a1e2-d8bd0af2d9a9\">Loading BokehJS ...</span>\n",
       "    </div>"
      ]
     },
     "metadata": {},
     "output_type": "display_data"
    },
    {
     "data": {
      "application/javascript": [
       "\n",
       "(function(global) {\n",
       "  function now() {\n",
       "    return new Date();\n",
       "  }\n",
       "\n",
       "  var force = \"1\";\n",
       "\n",
       "  if (typeof (window._bokeh_onload_callbacks) === \"undefined\" || force !== \"\") {\n",
       "    window._bokeh_onload_callbacks = [];\n",
       "    window._bokeh_is_loading = undefined;\n",
       "  }\n",
       "\n",
       "\n",
       "  \n",
       "  if (typeof (window._bokeh_timeout) === \"undefined\" || force !== \"\") {\n",
       "    window._bokeh_timeout = Date.now() + 5000;\n",
       "    window._bokeh_failed_load = false;\n",
       "  }\n",
       "\n",
       "  var NB_LOAD_WARNING = {'data': {'text/html':\n",
       "     \"<div style='background-color: #fdd'>\\n\"+\n",
       "     \"<p>\\n\"+\n",
       "     \"BokehJS does not appear to have successfully loaded. If loading BokehJS from CDN, this \\n\"+\n",
       "     \"may be due to a slow or bad network connection. Possible fixes:\\n\"+\n",
       "     \"</p>\\n\"+\n",
       "     \"<ul>\\n\"+\n",
       "     \"<li>re-rerun `output_notebook()` to attempt to load from CDN again, or</li>\\n\"+\n",
       "     \"<li>use INLINE resources instead, as so:</li>\\n\"+\n",
       "     \"</ul>\\n\"+\n",
       "     \"<code>\\n\"+\n",
       "     \"from bokeh.resources import INLINE\\n\"+\n",
       "     \"output_notebook(resources=INLINE)\\n\"+\n",
       "     \"</code>\\n\"+\n",
       "     \"</div>\"}};\n",
       "\n",
       "  function display_loaded() {\n",
       "    if (window.Bokeh !== undefined) {\n",
       "      Bokeh.$(\"#c40eb946-8059-4099-a1e2-d8bd0af2d9a9\").text(\"BokehJS successfully loaded.\");\n",
       "    } else if (Date.now() < window._bokeh_timeout) {\n",
       "      setTimeout(display_loaded, 100)\n",
       "    }\n",
       "  }\n",
       "\n",
       "  function run_callbacks() {\n",
       "    window._bokeh_onload_callbacks.forEach(function(callback) { callback() });\n",
       "    delete window._bokeh_onload_callbacks\n",
       "    console.info(\"Bokeh: all callbacks have finished\");\n",
       "  }\n",
       "\n",
       "  function load_libs(js_urls, callback) {\n",
       "    window._bokeh_onload_callbacks.push(callback);\n",
       "    if (window._bokeh_is_loading > 0) {\n",
       "      console.log(\"Bokeh: BokehJS is being loaded, scheduling callback at\", now());\n",
       "      return null;\n",
       "    }\n",
       "    if (js_urls == null || js_urls.length === 0) {\n",
       "      run_callbacks();\n",
       "      return null;\n",
       "    }\n",
       "    console.log(\"Bokeh: BokehJS not loaded, scheduling load and callback at\", now());\n",
       "    window._bokeh_is_loading = js_urls.length;\n",
       "    for (var i = 0; i < js_urls.length; i++) {\n",
       "      var url = js_urls[i];\n",
       "      var s = document.createElement('script');\n",
       "      s.src = url;\n",
       "      s.async = false;\n",
       "      s.onreadystatechange = s.onload = function() {\n",
       "        window._bokeh_is_loading--;\n",
       "        if (window._bokeh_is_loading === 0) {\n",
       "          console.log(\"Bokeh: all BokehJS libraries loaded\");\n",
       "          run_callbacks()\n",
       "        }\n",
       "      };\n",
       "      s.onerror = function() {\n",
       "        console.warn(\"failed to load library \" + url);\n",
       "      };\n",
       "      console.log(\"Bokeh: injecting script tag for BokehJS library: \", url);\n",
       "      document.getElementsByTagName(\"head\")[0].appendChild(s);\n",
       "    }\n",
       "  };var element = document.getElementById(\"c40eb946-8059-4099-a1e2-d8bd0af2d9a9\");\n",
       "  if (element == null) {\n",
       "    console.log(\"Bokeh: ERROR: autoload.js configured with elementid 'c40eb946-8059-4099-a1e2-d8bd0af2d9a9' but no matching script tag was found. \")\n",
       "    return false;\n",
       "  }\n",
       "\n",
       "  var js_urls = ['https://cdn.pydata.org/bokeh/release/bokeh-0.12.3.min.js', 'https://cdn.pydata.org/bokeh/release/bokeh-widgets-0.12.3.min.js'];\n",
       "\n",
       "  var inline_js = [\n",
       "    function(Bokeh) {\n",
       "      Bokeh.set_log_level(\"info\");\n",
       "    },\n",
       "    \n",
       "    function(Bokeh) {\n",
       "      \n",
       "      Bokeh.$(\"#c40eb946-8059-4099-a1e2-d8bd0af2d9a9\").text(\"BokehJS is loading...\");\n",
       "    },\n",
       "    function(Bokeh) {\n",
       "      console.log(\"Bokeh: injecting CSS: https://cdn.pydata.org/bokeh/release/bokeh-0.12.3.min.css\");\n",
       "      Bokeh.embed.inject_css(\"https://cdn.pydata.org/bokeh/release/bokeh-0.12.3.min.css\");\n",
       "      console.log(\"Bokeh: injecting CSS: https://cdn.pydata.org/bokeh/release/bokeh-widgets-0.12.3.min.css\");\n",
       "      Bokeh.embed.inject_css(\"https://cdn.pydata.org/bokeh/release/bokeh-widgets-0.12.3.min.css\");\n",
       "    }\n",
       "  ];\n",
       "\n",
       "  function run_inline_js() {\n",
       "    \n",
       "    if ((window.Bokeh !== undefined) || (force === \"1\")) {\n",
       "      for (var i = 0; i < inline_js.length; i++) {\n",
       "        inline_js[i](window.Bokeh);\n",
       "      }if (force === \"1\") {\n",
       "        display_loaded();\n",
       "      }} else if (Date.now() < window._bokeh_timeout) {\n",
       "      setTimeout(run_inline_js, 100);\n",
       "    } else if (!window._bokeh_failed_load) {\n",
       "      console.log(\"Bokeh: BokehJS failed to load within specified timeout.\");\n",
       "      window._bokeh_failed_load = true;\n",
       "    } else if (!force) {\n",
       "      var cell = $(\"#c40eb946-8059-4099-a1e2-d8bd0af2d9a9\").parents('.cell').data().cell;\n",
       "      cell.output_area.append_execute_result(NB_LOAD_WARNING)\n",
       "    }\n",
       "\n",
       "  }\n",
       "\n",
       "  if (window._bokeh_is_loading === 0) {\n",
       "    console.log(\"Bokeh: BokehJS loaded, going straight to plotting\");\n",
       "    run_inline_js();\n",
       "  } else {\n",
       "    load_libs(js_urls, function() {\n",
       "      console.log(\"Bokeh: BokehJS plotting callback run at\", now());\n",
       "      run_inline_js();\n",
       "    });\n",
       "  }\n",
       "}(this));"
      ]
     },
     "metadata": {},
     "output_type": "display_data"
    }
   ],
   "source": [
    "import numpy as np\n",
    "import pandas as pd\n",
    "\n",
    "from bokeh.io import output_notebook\n",
    "from bokeh.plotting import figure, show\n",
    "\n",
    "output_notebook()"
   ]
  },
  {
   "cell_type": "code",
   "execution_count": 2,
   "metadata": {
    "collapsed": true
   },
   "outputs": [],
   "source": [
    "DATASET_PATH = \"RobbinsCraterDatabase_20121016.tab/RobbinsCraters_20121016.tab\""
   ]
  },
  {
   "cell_type": "code",
   "execution_count": 3,
   "metadata": {
    "collapsed": false
   },
   "outputs": [
    {
     "name": "stderr",
     "output_type": "stream",
     "text": [
      "/home/juanlu/.miniconda3/envs/py35/lib/python3.5/site-packages/IPython/core/interactiveshell.py:2717: DtypeWarning: Columns (35,36,37,38,39,40,41,69) have mixed types. Specify dtype option on import or set low_memory=False.\n",
      "  interactivity=interactivity, compiler=compiler, result=result)\n"
     ]
    }
   ],
   "source": [
    "data = pd.read_table(DATASET_PATH, delimiter=\"\\t\", encoding='iso-8859-1', index_col=\"CRATER_ID\")"
   ]
  },
  {
   "cell_type": "markdown",
   "metadata": {},
   "source": [
    "How many records are there?"
   ]
  },
  {
   "cell_type": "code",
   "execution_count": 4,
   "metadata": {
    "collapsed": false
   },
   "outputs": [
    {
     "data": {
      "text/plain": [
       "384345"
      ]
     },
     "execution_count": 4,
     "metadata": {},
     "output_type": "execute_result"
    }
   ],
   "source": [
    "len(data)"
   ]
  },
  {
   "cell_type": "markdown",
   "metadata": {},
   "source": [
    "Let's explore **the first rows that have a non-empty crater name**, dropping the empty columns."
   ]
  },
  {
   "cell_type": "code",
   "execution_count": 5,
   "metadata": {
    "collapsed": false
   },
   "outputs": [
    {
     "data": {
      "text/html": [
       "<div>\n",
       "<table border=\"1\" class=\"dataframe\">\n",
       "  <thead>\n",
       "    <tr style=\"text-align: right;\">\n",
       "      <th></th>\n",
       "      <th>LATITUDE_CIRCLE_IMAGE</th>\n",
       "      <th>LONGITUDE_CIRCLE_IMAGE</th>\n",
       "      <th>LATITUDE_ELLIPSE_IMAGE</th>\n",
       "      <th>LONGITUDE_ELLIPSE_IMAGE</th>\n",
       "      <th>DIAM_CIRCLE_IMAGE</th>\n",
       "      <th>DIAM_CIRCLE_SD_IMAGE</th>\n",
       "      <th>DIAM_ELLIPSE_MAJOR_IMAGE</th>\n",
       "      <th>DIAM_ELLIPSE_MINOR_IMAGE</th>\n",
       "      <th>DIAM_ELLIPSE_ECCEN_IMAGE</th>\n",
       "      <th>DIAM_ELLIPSE_ELLIP_IMAGE</th>\n",
       "      <th>...</th>\n",
       "      <th>MORPHOLOGY_EJECTA_1</th>\n",
       "      <th>MORPHOLOGY_EJECTA_2</th>\n",
       "      <th>DEGRADATION_STATE</th>\n",
       "      <th>CONFIDENCE_IMPACT_CRATER</th>\n",
       "      <th>LAYER_1_PERIMETER</th>\n",
       "      <th>LAYER_1_AREA</th>\n",
       "      <th>LAYER_1_LOBATENESS</th>\n",
       "      <th>LAYER_1_EJECTARAD_EQUIV</th>\n",
       "      <th>LAYER_1_EJECTARAD_REL</th>\n",
       "      <th>CRATER_NAME</th>\n",
       "    </tr>\n",
       "    <tr>\n",
       "      <th>CRATER_ID</th>\n",
       "      <th></th>\n",
       "      <th></th>\n",
       "      <th></th>\n",
       "      <th></th>\n",
       "      <th></th>\n",
       "      <th></th>\n",
       "      <th></th>\n",
       "      <th></th>\n",
       "      <th></th>\n",
       "      <th></th>\n",
       "      <th></th>\n",
       "      <th></th>\n",
       "      <th></th>\n",
       "      <th></th>\n",
       "      <th></th>\n",
       "      <th></th>\n",
       "      <th></th>\n",
       "      <th></th>\n",
       "      <th></th>\n",
       "      <th></th>\n",
       "      <th></th>\n",
       "    </tr>\n",
       "  </thead>\n",
       "  <tbody>\n",
       "    <tr>\n",
       "      <th>01-000001</th>\n",
       "      <td>72.760</td>\n",
       "      <td>164.464</td>\n",
       "      <td>72.784</td>\n",
       "      <td>164.464</td>\n",
       "      <td>82.02</td>\n",
       "      <td>0.09</td>\n",
       "      <td>84.17</td>\n",
       "      <td>79.91</td>\n",
       "      <td>0.31</td>\n",
       "      <td>1.05</td>\n",
       "      <td>...</td>\n",
       "      <td>Rd/MLERS</td>\n",
       "      <td>HuBL</td>\n",
       "      <td>3.0</td>\n",
       "      <td>4</td>\n",
       "      <td>NaN</td>\n",
       "      <td>NaN</td>\n",
       "      <td>NaN</td>\n",
       "      <td>NaN</td>\n",
       "      <td>NaN</td>\n",
       "      <td>Korolev</td>\n",
       "    </tr>\n",
       "    <tr>\n",
       "      <th>01-000012</th>\n",
       "      <td>77.170</td>\n",
       "      <td>-145.681</td>\n",
       "      <td>77.165</td>\n",
       "      <td>-145.681</td>\n",
       "      <td>51.08</td>\n",
       "      <td>0.05</td>\n",
       "      <td>51.77</td>\n",
       "      <td>50.43</td>\n",
       "      <td>0.23</td>\n",
       "      <td>1.03</td>\n",
       "      <td>...</td>\n",
       "      <td>Rd</td>\n",
       "      <td>NaN</td>\n",
       "      <td>3.0</td>\n",
       "      <td>4</td>\n",
       "      <td>NaN</td>\n",
       "      <td>NaN</td>\n",
       "      <td>NaN</td>\n",
       "      <td>NaN</td>\n",
       "      <td>NaN</td>\n",
       "      <td>Dokka</td>\n",
       "    </tr>\n",
       "    <tr>\n",
       "      <th>01-000022</th>\n",
       "      <td>81.925</td>\n",
       "      <td>76.714</td>\n",
       "      <td>81.984</td>\n",
       "      <td>76.711</td>\n",
       "      <td>43.57</td>\n",
       "      <td>NaN</td>\n",
       "      <td>43.81</td>\n",
       "      <td>42.91</td>\n",
       "      <td>0.20</td>\n",
       "      <td>1.02</td>\n",
       "      <td>...</td>\n",
       "      <td>NaN</td>\n",
       "      <td>NaN</td>\n",
       "      <td>1.0</td>\n",
       "      <td>4</td>\n",
       "      <td>NaN</td>\n",
       "      <td>NaN</td>\n",
       "      <td>NaN</td>\n",
       "      <td>NaN</td>\n",
       "      <td>NaN</td>\n",
       "      <td>Udzha</td>\n",
       "    </tr>\n",
       "    <tr>\n",
       "      <th>01-000028</th>\n",
       "      <td>70.173</td>\n",
       "      <td>103.226</td>\n",
       "      <td>70.169</td>\n",
       "      <td>103.226</td>\n",
       "      <td>36.28</td>\n",
       "      <td>NaN</td>\n",
       "      <td>36.74</td>\n",
       "      <td>35.83</td>\n",
       "      <td>0.22</td>\n",
       "      <td>1.03</td>\n",
       "      <td>...</td>\n",
       "      <td>SLERS</td>\n",
       "      <td>HuBL</td>\n",
       "      <td>3.0</td>\n",
       "      <td>4</td>\n",
       "      <td>NaN</td>\n",
       "      <td>NaN</td>\n",
       "      <td>NaN</td>\n",
       "      <td>NaN</td>\n",
       "      <td>NaN</td>\n",
       "      <td>Louth</td>\n",
       "    </tr>\n",
       "    <tr>\n",
       "      <th>01-000068</th>\n",
       "      <td>76.887</td>\n",
       "      <td>-54.969</td>\n",
       "      <td>76.889</td>\n",
       "      <td>-54.969</td>\n",
       "      <td>22.11</td>\n",
       "      <td>0.06</td>\n",
       "      <td>22.92</td>\n",
       "      <td>21.34</td>\n",
       "      <td>0.36</td>\n",
       "      <td>1.07</td>\n",
       "      <td>...</td>\n",
       "      <td>SLEPd</td>\n",
       "      <td>HuBL</td>\n",
       "      <td>3.0</td>\n",
       "      <td>4</td>\n",
       "      <td>377.56</td>\n",
       "      <td>2641.22</td>\n",
       "      <td>1.94</td>\n",
       "      <td>19.98</td>\n",
       "      <td>1.81</td>\n",
       "      <td>Escorial</td>\n",
       "    </tr>\n",
       "  </tbody>\n",
       "</table>\n",
       "<p>5 rows × 43 columns</p>\n",
       "</div>"
      ],
      "text/plain": [
       "           LATITUDE_CIRCLE_IMAGE  LONGITUDE_CIRCLE_IMAGE  \\\n",
       "CRATER_ID                                                  \n",
       "01-000001                 72.760                 164.464   \n",
       "01-000012                 77.170                -145.681   \n",
       "01-000022                 81.925                  76.714   \n",
       "01-000028                 70.173                 103.226   \n",
       "01-000068                 76.887                 -54.969   \n",
       "\n",
       "           LATITUDE_ELLIPSE_IMAGE  LONGITUDE_ELLIPSE_IMAGE  DIAM_CIRCLE_IMAGE  \\\n",
       "CRATER_ID                                                                       \n",
       "01-000001                  72.784                  164.464              82.02   \n",
       "01-000012                  77.165                 -145.681              51.08   \n",
       "01-000022                  81.984                   76.711              43.57   \n",
       "01-000028                  70.169                  103.226              36.28   \n",
       "01-000068                  76.889                  -54.969              22.11   \n",
       "\n",
       "           DIAM_CIRCLE_SD_IMAGE  DIAM_ELLIPSE_MAJOR_IMAGE  \\\n",
       "CRATER_ID                                                   \n",
       "01-000001                  0.09                     84.17   \n",
       "01-000012                  0.05                     51.77   \n",
       "01-000022                   NaN                     43.81   \n",
       "01-000028                   NaN                     36.74   \n",
       "01-000068                  0.06                     22.92   \n",
       "\n",
       "           DIAM_ELLIPSE_MINOR_IMAGE  DIAM_ELLIPSE_ECCEN_IMAGE  \\\n",
       "CRATER_ID                                                       \n",
       "01-000001                     79.91                      0.31   \n",
       "01-000012                     50.43                      0.23   \n",
       "01-000022                     42.91                      0.20   \n",
       "01-000028                     35.83                      0.22   \n",
       "01-000068                     21.34                      0.36   \n",
       "\n",
       "           DIAM_ELLIPSE_ELLIP_IMAGE     ...       MORPHOLOGY_EJECTA_1  \\\n",
       "CRATER_ID                               ...                             \n",
       "01-000001                      1.05     ...                  Rd/MLERS   \n",
       "01-000012                      1.03     ...                        Rd   \n",
       "01-000022                      1.02     ...                       NaN   \n",
       "01-000028                      1.03     ...                     SLERS   \n",
       "01-000068                      1.07     ...                     SLEPd   \n",
       "\n",
       "           MORPHOLOGY_EJECTA_2  DEGRADATION_STATE  CONFIDENCE_IMPACT_CRATER  \\\n",
       "CRATER_ID                                                                     \n",
       "01-000001                 HuBL                3.0                         4   \n",
       "01-000012                  NaN                3.0                         4   \n",
       "01-000022                  NaN                1.0                         4   \n",
       "01-000028                 HuBL                3.0                         4   \n",
       "01-000068                 HuBL                3.0                         4   \n",
       "\n",
       "           LAYER_1_PERIMETER  LAYER_1_AREA  LAYER_1_LOBATENESS  \\\n",
       "CRATER_ID                                                        \n",
       "01-000001                NaN           NaN                 NaN   \n",
       "01-000012                NaN           NaN                 NaN   \n",
       "01-000022                NaN           NaN                 NaN   \n",
       "01-000028                NaN           NaN                 NaN   \n",
       "01-000068             377.56       2641.22                1.94   \n",
       "\n",
       "           LAYER_1_EJECTARAD_EQUIV  LAYER_1_EJECTARAD_REL  CRATER_NAME  \n",
       "CRATER_ID                                                               \n",
       "01-000001                      NaN                    NaN      Korolev  \n",
       "01-000012                      NaN                    NaN        Dokka  \n",
       "01-000022                      NaN                    NaN        Udzha  \n",
       "01-000028                      NaN                    NaN        Louth  \n",
       "01-000068                    19.98                   1.81     Escorial  \n",
       "\n",
       "[5 rows x 43 columns]"
      ]
     },
     "execution_count": 5,
     "metadata": {},
     "output_type": "execute_result"
    }
   ],
   "source": [
    "data.dropna(subset=[\"CRATER_NAME\"]).head().dropna(axis=1, how='all')"
   ]
  },
  {
   "cell_type": "markdown",
   "metadata": {},
   "source": [
    "How elliptical are the craters?"
   ]
  },
  {
   "cell_type": "code",
   "execution_count": 6,
   "metadata": {
    "collapsed": false,
    "scrolled": true
   },
   "outputs": [
    {
     "data": {
      "text/plain": [
       "count    384336.000000\n",
       "mean          0.424874\n",
       "std           0.134485\n",
       "min           0.020000\n",
       "25%           0.330000\n",
       "50%           0.420000\n",
       "75%           0.510000\n",
       "max           0.980000\n",
       "Name: DIAM_ELLIPSE_ECCEN_IMAGE, dtype: float64"
      ]
     },
     "execution_count": 6,
     "metadata": {},
     "output_type": "execute_result"
    }
   ],
   "source": [
    "data.DIAM_ELLIPSE_ECCEN_IMAGE.describe()"
   ]
  },
  {
   "cell_type": "code",
   "execution_count": 7,
   "metadata": {
    "collapsed": false
   },
   "outputs": [
    {
     "data": {
      "text/html": [
       "\n",
       "\n",
       "    <div class=\"bk-root\">\n",
       "        <div class=\"plotdiv\" id=\"22b71eb7-6e17-4749-b29d-2b82c5a1d7f8\"></div>\n",
       "    </div>\n",
       "<script type=\"text/javascript\">\n",
       "  \n",
       "  (function(global) {\n",
       "    function now() {\n",
       "      return new Date();\n",
       "    }\n",
       "  \n",
       "    var force = \"\";\n",
       "  \n",
       "    if (typeof (window._bokeh_onload_callbacks) === \"undefined\" || force !== \"\") {\n",
       "      window._bokeh_onload_callbacks = [];\n",
       "      window._bokeh_is_loading = undefined;\n",
       "    }\n",
       "  \n",
       "  \n",
       "    \n",
       "    if (typeof (window._bokeh_timeout) === \"undefined\" || force !== \"\") {\n",
       "      window._bokeh_timeout = Date.now() + 0;\n",
       "      window._bokeh_failed_load = false;\n",
       "    }\n",
       "  \n",
       "    var NB_LOAD_WARNING = {'data': {'text/html':\n",
       "       \"<div style='background-color: #fdd'>\\n\"+\n",
       "       \"<p>\\n\"+\n",
       "       \"BokehJS does not appear to have successfully loaded. If loading BokehJS from CDN, this \\n\"+\n",
       "       \"may be due to a slow or bad network connection. Possible fixes:\\n\"+\n",
       "       \"</p>\\n\"+\n",
       "       \"<ul>\\n\"+\n",
       "       \"<li>re-rerun `output_notebook()` to attempt to load from CDN again, or</li>\\n\"+\n",
       "       \"<li>use INLINE resources instead, as so:</li>\\n\"+\n",
       "       \"</ul>\\n\"+\n",
       "       \"<code>\\n\"+\n",
       "       \"from bokeh.resources import INLINE\\n\"+\n",
       "       \"output_notebook(resources=INLINE)\\n\"+\n",
       "       \"</code>\\n\"+\n",
       "       \"</div>\"}};\n",
       "  \n",
       "    function display_loaded() {\n",
       "      if (window.Bokeh !== undefined) {\n",
       "        Bokeh.$(\"#22b71eb7-6e17-4749-b29d-2b82c5a1d7f8\").text(\"BokehJS successfully loaded.\");\n",
       "      } else if (Date.now() < window._bokeh_timeout) {\n",
       "        setTimeout(display_loaded, 100)\n",
       "      }\n",
       "    }\n",
       "  \n",
       "    function run_callbacks() {\n",
       "      window._bokeh_onload_callbacks.forEach(function(callback) { callback() });\n",
       "      delete window._bokeh_onload_callbacks\n",
       "      console.info(\"Bokeh: all callbacks have finished\");\n",
       "    }\n",
       "  \n",
       "    function load_libs(js_urls, callback) {\n",
       "      window._bokeh_onload_callbacks.push(callback);\n",
       "      if (window._bokeh_is_loading > 0) {\n",
       "        console.log(\"Bokeh: BokehJS is being loaded, scheduling callback at\", now());\n",
       "        return null;\n",
       "      }\n",
       "      if (js_urls == null || js_urls.length === 0) {\n",
       "        run_callbacks();\n",
       "        return null;\n",
       "      }\n",
       "      console.log(\"Bokeh: BokehJS not loaded, scheduling load and callback at\", now());\n",
       "      window._bokeh_is_loading = js_urls.length;\n",
       "      for (var i = 0; i < js_urls.length; i++) {\n",
       "        var url = js_urls[i];\n",
       "        var s = document.createElement('script');\n",
       "        s.src = url;\n",
       "        s.async = false;\n",
       "        s.onreadystatechange = s.onload = function() {\n",
       "          window._bokeh_is_loading--;\n",
       "          if (window._bokeh_is_loading === 0) {\n",
       "            console.log(\"Bokeh: all BokehJS libraries loaded\");\n",
       "            run_callbacks()\n",
       "          }\n",
       "        };\n",
       "        s.onerror = function() {\n",
       "          console.warn(\"failed to load library \" + url);\n",
       "        };\n",
       "        console.log(\"Bokeh: injecting script tag for BokehJS library: \", url);\n",
       "        document.getElementsByTagName(\"head\")[0].appendChild(s);\n",
       "      }\n",
       "    };var element = document.getElementById(\"22b71eb7-6e17-4749-b29d-2b82c5a1d7f8\");\n",
       "    if (element == null) {\n",
       "      console.log(\"Bokeh: ERROR: autoload.js configured with elementid '22b71eb7-6e17-4749-b29d-2b82c5a1d7f8' but no matching script tag was found. \")\n",
       "      return false;\n",
       "    }\n",
       "  \n",
       "    var js_urls = [];\n",
       "  \n",
       "    var inline_js = [\n",
       "      function(Bokeh) {\n",
       "        Bokeh.$(function() {\n",
       "            var docs_json = {\"a3d96d77-0d12-4504-b8d2-af0e75a65bcb\":{\"roots\":{\"references\":[{\"attributes\":{\"bottom_units\":\"screen\",\"fill_alpha\":{\"value\":0.5},\"fill_color\":{\"value\":\"lightgrey\"},\"left_units\":\"screen\",\"level\":\"overlay\",\"line_alpha\":{\"value\":1.0},\"line_color\":{\"value\":\"black\"},\"line_dash\":[4,4],\"line_width\":{\"value\":2},\"plot\":null,\"render_mode\":\"css\",\"right_units\":\"screen\",\"top_units\":\"screen\"},\"id\":\"2fd10587-b356-47c3-83b2-64d43a6eef95\",\"type\":\"BoxAnnotation\"},{\"attributes\":{\"plot\":{\"id\":\"da891d83-6561-44d5-a903-de4403aa75d3\",\"subtype\":\"Figure\",\"type\":\"Plot\"}},\"id\":\"1148762c-6d81-4959-a4d1-f0f8cca853d2\",\"type\":\"PanTool\"},{\"attributes\":{\"formatter\":{\"id\":\"c6f5b41a-ee12-40c9-a07e-435fe0482fea\",\"type\":\"BasicTickFormatter\"},\"plot\":{\"id\":\"da891d83-6561-44d5-a903-de4403aa75d3\",\"subtype\":\"Figure\",\"type\":\"Plot\"},\"ticker\":{\"id\":\"74a46f9b-122f-488c-8b4f-6cb4a4ccd5d4\",\"type\":\"BasicTicker\"}},\"id\":\"6f4d02c7-831f-4ec4-be46-05d758dc672d\",\"type\":\"LinearAxis\"},{\"attributes\":{},\"id\":\"e94868f6-68d5-4b9e-ab18-3f48750401d0\",\"type\":\"BasicTickFormatter\"},{\"attributes\":{\"fill_alpha\":{\"value\":0.1},\"fill_color\":{\"value\":\"#1f77b4\"},\"left\":{\"field\":\"left\"},\"line_alpha\":{\"value\":0.1},\"line_color\":{\"value\":\"#1f77b4\"},\"right\":{\"field\":\"right\"},\"top\":{\"field\":\"top\"}},\"id\":\"a4b38dec-3342-4133-a2af-1e6d5f3ecaeb\",\"type\":\"Quad\"},{\"attributes\":{\"formatter\":{\"id\":\"e94868f6-68d5-4b9e-ab18-3f48750401d0\",\"type\":\"BasicTickFormatter\"},\"plot\":{\"id\":\"da891d83-6561-44d5-a903-de4403aa75d3\",\"subtype\":\"Figure\",\"type\":\"Plot\"},\"ticker\":{\"id\":\"88fac5b5-cdd6-4ace-a1ad-d603119d00a5\",\"type\":\"BasicTicker\"}},\"id\":\"8f1e3bd4-aff3-439c-b57c-37faaf293ac3\",\"type\":\"LinearAxis\"},{\"attributes\":{\"plot\":{\"id\":\"da891d83-6561-44d5-a903-de4403aa75d3\",\"subtype\":\"Figure\",\"type\":\"Plot\"}},\"id\":\"1aef0712-83f0-43b9-9e33-9c0aeeec5930\",\"type\":\"HelpTool\"},{\"attributes\":{},\"id\":\"c6f5b41a-ee12-40c9-a07e-435fe0482fea\",\"type\":\"BasicTickFormatter\"},{\"attributes\":{},\"id\":\"36795865-1d79-41bb-9e3b-d394254e5553\",\"type\":\"ToolEvents\"},{\"attributes\":{\"dimension\":1,\"plot\":{\"id\":\"da891d83-6561-44d5-a903-de4403aa75d3\",\"subtype\":\"Figure\",\"type\":\"Plot\"},\"ticker\":{\"id\":\"88fac5b5-cdd6-4ace-a1ad-d603119d00a5\",\"type\":\"BasicTicker\"}},\"id\":\"e79a5bf8-d493-41ff-b2b6-548e12c82942\",\"type\":\"Grid\"},{\"attributes\":{\"data_source\":{\"id\":\"9fe5769e-0c7c-4b4e-bf33-39876ac7b25c\",\"type\":\"ColumnDataSource\"},\"glyph\":{\"id\":\"ca42e898-3d45-44a7-9978-18bf14f3d119\",\"type\":\"Quad\"},\"hover_glyph\":null,\"nonselection_glyph\":{\"id\":\"a4b38dec-3342-4133-a2af-1e6d5f3ecaeb\",\"type\":\"Quad\"},\"selection_glyph\":null},\"id\":\"0b4cb6f3-a7ce-4d04-8698-8ca03dcc8023\",\"type\":\"GlyphRenderer\"},{\"attributes\":{\"callback\":null},\"id\":\"bca7b802-f91a-4e4b-9bd8-4f2f2ab5026d\",\"type\":\"DataRange1d\"},{\"attributes\":{\"below\":[{\"id\":\"6f4d02c7-831f-4ec4-be46-05d758dc672d\",\"type\":\"LinearAxis\"}],\"left\":[{\"id\":\"8f1e3bd4-aff3-439c-b57c-37faaf293ac3\",\"type\":\"LinearAxis\"}],\"plot_height\":400,\"plot_width\":400,\"renderers\":[{\"id\":\"6f4d02c7-831f-4ec4-be46-05d758dc672d\",\"type\":\"LinearAxis\"},{\"id\":\"c3e37ac4-4929-4f37-89a0-96b4389109a2\",\"type\":\"Grid\"},{\"id\":\"8f1e3bd4-aff3-439c-b57c-37faaf293ac3\",\"type\":\"LinearAxis\"},{\"id\":\"e79a5bf8-d493-41ff-b2b6-548e12c82942\",\"type\":\"Grid\"},{\"id\":\"2fd10587-b356-47c3-83b2-64d43a6eef95\",\"type\":\"BoxAnnotation\"},{\"id\":\"0b4cb6f3-a7ce-4d04-8698-8ca03dcc8023\",\"type\":\"GlyphRenderer\"}],\"title\":{\"id\":\"0619a9cc-132e-40fc-8a45-db2eebbba695\",\"type\":\"Title\"},\"tool_events\":{\"id\":\"36795865-1d79-41bb-9e3b-d394254e5553\",\"type\":\"ToolEvents\"},\"toolbar\":{\"id\":\"4dc78598-7b88-4376-a6ba-e2935087186d\",\"type\":\"Toolbar\"},\"x_range\":{\"id\":\"bca7b802-f91a-4e4b-9bd8-4f2f2ab5026d\",\"type\":\"DataRange1d\"},\"y_range\":{\"id\":\"8c515531-8b29-4d15-86ae-78c13c547477\",\"type\":\"DataRange1d\"}},\"id\":\"da891d83-6561-44d5-a903-de4403aa75d3\",\"subtype\":\"Figure\",\"type\":\"Plot\"},{\"attributes\":{\"active_drag\":\"auto\",\"active_scroll\":\"auto\",\"active_tap\":\"auto\",\"tools\":[{\"id\":\"1148762c-6d81-4959-a4d1-f0f8cca853d2\",\"type\":\"PanTool\"},{\"id\":\"5e76fc96-31d0-4a7d-a4d7-8954ed678ab8\",\"type\":\"WheelZoomTool\"},{\"id\":\"d984ae28-49d8-4cc0-bd83-90f2b30c9857\",\"type\":\"BoxZoomTool\"},{\"id\":\"6e0a524d-a49b-477f-88d6-f99c94a8287d\",\"type\":\"SaveTool\"},{\"id\":\"4a53e26b-d1ba-407c-8df9-3aa3f4d21290\",\"type\":\"ResetTool\"},{\"id\":\"1aef0712-83f0-43b9-9e33-9c0aeeec5930\",\"type\":\"HelpTool\"}]},\"id\":\"4dc78598-7b88-4376-a6ba-e2935087186d\",\"type\":\"Toolbar\"},{\"attributes\":{\"plot\":{\"id\":\"da891d83-6561-44d5-a903-de4403aa75d3\",\"subtype\":\"Figure\",\"type\":\"Plot\"}},\"id\":\"5e76fc96-31d0-4a7d-a4d7-8954ed678ab8\",\"type\":\"WheelZoomTool\"},{\"attributes\":{},\"id\":\"88fac5b5-cdd6-4ace-a1ad-d603119d00a5\",\"type\":\"BasicTicker\"},{\"attributes\":{},\"id\":\"74a46f9b-122f-488c-8b4f-6cb4a4ccd5d4\",\"type\":\"BasicTicker\"},{\"attributes\":{\"callback\":null},\"id\":\"8c515531-8b29-4d15-86ae-78c13c547477\",\"type\":\"DataRange1d\"},{\"attributes\":{\"fill_color\":{\"value\":\"#1f77b4\"},\"left\":{\"field\":\"left\"},\"line_color\":{\"value\":\"#1f77b4\"},\"right\":{\"field\":\"right\"},\"top\":{\"field\":\"top\"}},\"id\":\"ca42e898-3d45-44a7-9978-18bf14f3d119\",\"type\":\"Quad\"},{\"attributes\":{\"plot\":null,\"text\":null},\"id\":\"0619a9cc-132e-40fc-8a45-db2eebbba695\",\"type\":\"Title\"},{\"attributes\":{\"callback\":null,\"column_names\":[\"top\",\"left\",\"right\"],\"data\":{\"left\":[0.02,0.116,0.212,0.30800000000000005,0.404,0.5,0.5960000000000001,0.6920000000000001,0.788,0.884],\"right\":[0.116,0.212,0.30800000000000005,0.404,0.5,0.5960000000000001,0.6920000000000001,0.788,0.884,0.98],\"top\":[0.0446657785548756,0.47836832008104024,1.418653426515687,2.8354367445846003,2.68002802235544,1.8843646358047803,0.7474200092280368,0.2229223474598616,0.09090353232588154,0.0139038497564631]}},\"id\":\"9fe5769e-0c7c-4b4e-bf33-39876ac7b25c\",\"type\":\"ColumnDataSource\"},{\"attributes\":{\"plot\":{\"id\":\"da891d83-6561-44d5-a903-de4403aa75d3\",\"subtype\":\"Figure\",\"type\":\"Plot\"}},\"id\":\"4a53e26b-d1ba-407c-8df9-3aa3f4d21290\",\"type\":\"ResetTool\"},{\"attributes\":{\"overlay\":{\"id\":\"2fd10587-b356-47c3-83b2-64d43a6eef95\",\"type\":\"BoxAnnotation\"},\"plot\":{\"id\":\"da891d83-6561-44d5-a903-de4403aa75d3\",\"subtype\":\"Figure\",\"type\":\"Plot\"}},\"id\":\"d984ae28-49d8-4cc0-bd83-90f2b30c9857\",\"type\":\"BoxZoomTool\"},{\"attributes\":{\"plot\":{\"id\":\"da891d83-6561-44d5-a903-de4403aa75d3\",\"subtype\":\"Figure\",\"type\":\"Plot\"},\"ticker\":{\"id\":\"74a46f9b-122f-488c-8b4f-6cb4a4ccd5d4\",\"type\":\"BasicTicker\"}},\"id\":\"c3e37ac4-4929-4f37-89a0-96b4389109a2\",\"type\":\"Grid\"},{\"attributes\":{\"plot\":{\"id\":\"da891d83-6561-44d5-a903-de4403aa75d3\",\"subtype\":\"Figure\",\"type\":\"Plot\"}},\"id\":\"6e0a524d-a49b-477f-88d6-f99c94a8287d\",\"type\":\"SaveTool\"}],\"root_ids\":[\"da891d83-6561-44d5-a903-de4403aa75d3\"]},\"title\":\"Bokeh Application\",\"version\":\"0.12.3\"}};\n",
       "            var render_items = [{\"docid\":\"a3d96d77-0d12-4504-b8d2-af0e75a65bcb\",\"elementid\":\"22b71eb7-6e17-4749-b29d-2b82c5a1d7f8\",\"modelid\":\"da891d83-6561-44d5-a903-de4403aa75d3\"}];\n",
       "            \n",
       "            Bokeh.embed.embed_items(docs_json, render_items);\n",
       "        });\n",
       "      },\n",
       "      function(Bokeh) {\n",
       "      }\n",
       "    ];\n",
       "  \n",
       "    function run_inline_js() {\n",
       "      \n",
       "      if ((window.Bokeh !== undefined) || (force === \"1\")) {\n",
       "        for (var i = 0; i < inline_js.length; i++) {\n",
       "          inline_js[i](window.Bokeh);\n",
       "        }if (force === \"1\") {\n",
       "          display_loaded();\n",
       "        }} else if (Date.now() < window._bokeh_timeout) {\n",
       "        setTimeout(run_inline_js, 100);\n",
       "      } else if (!window._bokeh_failed_load) {\n",
       "        console.log(\"Bokeh: BokehJS failed to load within specified timeout.\");\n",
       "        window._bokeh_failed_load = true;\n",
       "      } else if (!force) {\n",
       "        var cell = $(\"#22b71eb7-6e17-4749-b29d-2b82c5a1d7f8\").parents('.cell').data().cell;\n",
       "        cell.output_area.append_execute_result(NB_LOAD_WARNING)\n",
       "      }\n",
       "  \n",
       "    }\n",
       "  \n",
       "    if (window._bokeh_is_loading === 0) {\n",
       "      console.log(\"Bokeh: BokehJS loaded, going straight to plotting\");\n",
       "      run_inline_js();\n",
       "    } else {\n",
       "      load_libs(js_urls, function() {\n",
       "        console.log(\"Bokeh: BokehJS plotting callback run at\", now());\n",
       "        run_inline_js();\n",
       "      });\n",
       "    }\n",
       "  }(this));\n",
       "</script>"
      ]
     },
     "metadata": {},
     "output_type": "display_data"
    }
   ],
   "source": [
    "diameters = data.DIAM_ELLIPSE_ECCEN_IMAGE.dropna()\n",
    "hist, edges = np.histogram(diameters, density=True)\n",
    "\n",
    "p = figure(width=400, height=400)\n",
    "p.quad(top=hist, left=edges[:-1], right=edges[1:])\n",
    "show(p)"
   ]
  },
  {
   "cell_type": "markdown",
   "metadata": {},
   "source": [
    "How many craters were below and above 3 km of diameter? What's the minimum diameter?"
   ]
  },
  {
   "cell_type": "code",
   "execution_count": 8,
   "metadata": {
    "collapsed": false
   },
   "outputs": [
    {
     "name": "stdout",
     "output_type": "stream",
     "text": [
      "79.22 % below 3 km (N = 304490)\n"
     ]
    }
   ],
   "source": [
    "print(\"{:.2f} % below 3 km (N = {})\".format(len(data[data.DIAM_CIRCLE_IMAGE < 3]) / len(data) * 100, len(data[data.DIAM_CIRCLE_IMAGE < 3])))"
   ]
  },
  {
   "cell_type": "code",
   "execution_count": 9,
   "metadata": {
    "collapsed": false
   },
   "outputs": [
    {
     "name": "stdout",
     "output_type": "stream",
     "text": [
      "20.78 % above 3 km (N = 79855)\n"
     ]
    }
   ],
   "source": [
    "print(\"{:.2f} % above 3 km (N = {})\".format(len(data[data.DIAM_CIRCLE_IMAGE >= 3]) / len(data) * 100, len(data[data.DIAM_CIRCLE_IMAGE >= 3])))"
   ]
  },
  {
   "cell_type": "code",
   "execution_count": 10,
   "metadata": {
    "collapsed": false
   },
   "outputs": [
    {
     "data": {
      "text/plain": [
       "1.0"
      ]
     },
     "execution_count": 10,
     "metadata": {},
     "output_type": "execute_result"
    }
   ],
   "source": [
    "data.DIAM_CIRCLE_IMAGE.min()"
   ]
  }
 ],
 "metadata": {
  "anaconda-cloud": {},
  "kernelspec": {
   "display_name": "Python [conda env:py35]",
   "language": "python",
   "name": "conda-env-py35-py"
  },
  "language_info": {
   "codemirror_mode": {
    "name": "ipython",
    "version": 3
   },
   "file_extension": ".py",
   "mimetype": "text/x-python",
   "name": "python",
   "nbconvert_exporter": "python",
   "pygments_lexer": "ipython3",
   "version": "3.5.2"
  }
 },
 "nbformat": 4,
 "nbformat_minor": 1
}
