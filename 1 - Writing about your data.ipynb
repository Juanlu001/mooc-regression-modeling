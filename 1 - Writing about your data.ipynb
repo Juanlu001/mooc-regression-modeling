{
 "cells": [
  {
   "cell_type": "markdown",
   "metadata": {},
   "source": [
    "# Regression modeling in practice\n",
    "\n",
    "## 1 - Writing about your data"
   ]
  },
  {
   "cell_type": "markdown",
   "metadata": {},
   "source": [
    "> **Step 1**: Describe your sample. Provide enough detail so that your reader can clearly understand the population that the study sample came from. Use meaningful labels. Do not use abbreviations (“PPM100”) or variable names.\n",
    "\n",
    "> a) Describe the study population (who or what was studied).\n",
    "\n",
    "> b) Report the level of analysis studied (individual, group, or aggregate).\n",
    "\n",
    "> c) Report the number of observations in the data set.\n",
    "\n",
    "> d) Describe your data analytic sample (the sample you are using for your analyses)."
   ]
  },
  {
   "cell_type": "markdown",
   "metadata": {},
   "source": [
    "This dataset contains 384 385 Mars impact craters (despite the report saying it's 384 383) with a diameter greater or equal than one kilometer. X % of the craters have a diameter lower than 3 km, while the other Y % have a diameter greater or equal than 3 km and were studied in more detail."
   ]
  },
  {
   "cell_type": "code",
   "execution_count": 1,
   "metadata": {
    "collapsed": false
   },
   "outputs": [
    {
     "data": {
      "text/html": [
       "\n",
       "    <div class=\"bk-root\">\n",
       "        <a href=\"http://bokeh.pydata.org\" target=\"_blank\" class=\"bk-logo bk-logo-small bk-logo-notebook\"></a>\n",
       "        <span id=\"e10ce1c6-05d6-453a-8ea7-075dfc5dc21a\">Loading BokehJS ...</span>\n",
       "    </div>"
      ]
     },
     "metadata": {},
     "output_type": "display_data"
    },
    {
     "data": {
      "application/javascript": [
       "\n",
       "(function(global) {\n",
       "  function now() {\n",
       "    return new Date();\n",
       "  }\n",
       "\n",
       "  var force = \"1\";\n",
       "\n",
       "  if (typeof (window._bokeh_onload_callbacks) === \"undefined\" || force !== \"\") {\n",
       "    window._bokeh_onload_callbacks = [];\n",
       "    window._bokeh_is_loading = undefined;\n",
       "  }\n",
       "\n",
       "\n",
       "  \n",
       "  if (typeof (window._bokeh_timeout) === \"undefined\" || force !== \"\") {\n",
       "    window._bokeh_timeout = Date.now() + 5000;\n",
       "    window._bokeh_failed_load = false;\n",
       "  }\n",
       "\n",
       "  var NB_LOAD_WARNING = {'data': {'text/html':\n",
       "     \"<div style='background-color: #fdd'>\\n\"+\n",
       "     \"<p>\\n\"+\n",
       "     \"BokehJS does not appear to have successfully loaded. If loading BokehJS from CDN, this \\n\"+\n",
       "     \"may be due to a slow or bad network connection. Possible fixes:\\n\"+\n",
       "     \"</p>\\n\"+\n",
       "     \"<ul>\\n\"+\n",
       "     \"<li>re-rerun `output_notebook()` to attempt to load from CDN again, or</li>\\n\"+\n",
       "     \"<li>use INLINE resources instead, as so:</li>\\n\"+\n",
       "     \"</ul>\\n\"+\n",
       "     \"<code>\\n\"+\n",
       "     \"from bokeh.resources import INLINE\\n\"+\n",
       "     \"output_notebook(resources=INLINE)\\n\"+\n",
       "     \"</code>\\n\"+\n",
       "     \"</div>\"}};\n",
       "\n",
       "  function display_loaded() {\n",
       "    if (window.Bokeh !== undefined) {\n",
       "      Bokeh.$(\"#e10ce1c6-05d6-453a-8ea7-075dfc5dc21a\").text(\"BokehJS successfully loaded.\");\n",
       "    } else if (Date.now() < window._bokeh_timeout) {\n",
       "      setTimeout(display_loaded, 100)\n",
       "    }\n",
       "  }\n",
       "\n",
       "  function run_callbacks() {\n",
       "    window._bokeh_onload_callbacks.forEach(function(callback) { callback() });\n",
       "    delete window._bokeh_onload_callbacks\n",
       "    console.info(\"Bokeh: all callbacks have finished\");\n",
       "  }\n",
       "\n",
       "  function load_libs(js_urls, callback) {\n",
       "    window._bokeh_onload_callbacks.push(callback);\n",
       "    if (window._bokeh_is_loading > 0) {\n",
       "      console.log(\"Bokeh: BokehJS is being loaded, scheduling callback at\", now());\n",
       "      return null;\n",
       "    }\n",
       "    if (js_urls == null || js_urls.length === 0) {\n",
       "      run_callbacks();\n",
       "      return null;\n",
       "    }\n",
       "    console.log(\"Bokeh: BokehJS not loaded, scheduling load and callback at\", now());\n",
       "    window._bokeh_is_loading = js_urls.length;\n",
       "    for (var i = 0; i < js_urls.length; i++) {\n",
       "      var url = js_urls[i];\n",
       "      var s = document.createElement('script');\n",
       "      s.src = url;\n",
       "      s.async = false;\n",
       "      s.onreadystatechange = s.onload = function() {\n",
       "        window._bokeh_is_loading--;\n",
       "        if (window._bokeh_is_loading === 0) {\n",
       "          console.log(\"Bokeh: all BokehJS libraries loaded\");\n",
       "          run_callbacks()\n",
       "        }\n",
       "      };\n",
       "      s.onerror = function() {\n",
       "        console.warn(\"failed to load library \" + url);\n",
       "      };\n",
       "      console.log(\"Bokeh: injecting script tag for BokehJS library: \", url);\n",
       "      document.getElementsByTagName(\"head\")[0].appendChild(s);\n",
       "    }\n",
       "  };var element = document.getElementById(\"e10ce1c6-05d6-453a-8ea7-075dfc5dc21a\");\n",
       "  if (element == null) {\n",
       "    console.log(\"Bokeh: ERROR: autoload.js configured with elementid 'e10ce1c6-05d6-453a-8ea7-075dfc5dc21a' but no matching script tag was found. \")\n",
       "    return false;\n",
       "  }\n",
       "\n",
       "  var js_urls = ['https://cdn.pydata.org/bokeh/release/bokeh-0.12.3.min.js', 'https://cdn.pydata.org/bokeh/release/bokeh-widgets-0.12.3.min.js'];\n",
       "\n",
       "  var inline_js = [\n",
       "    function(Bokeh) {\n",
       "      Bokeh.set_log_level(\"info\");\n",
       "    },\n",
       "    \n",
       "    function(Bokeh) {\n",
       "      \n",
       "      Bokeh.$(\"#e10ce1c6-05d6-453a-8ea7-075dfc5dc21a\").text(\"BokehJS is loading...\");\n",
       "    },\n",
       "    function(Bokeh) {\n",
       "      console.log(\"Bokeh: injecting CSS: https://cdn.pydata.org/bokeh/release/bokeh-0.12.3.min.css\");\n",
       "      Bokeh.embed.inject_css(\"https://cdn.pydata.org/bokeh/release/bokeh-0.12.3.min.css\");\n",
       "      console.log(\"Bokeh: injecting CSS: https://cdn.pydata.org/bokeh/release/bokeh-widgets-0.12.3.min.css\");\n",
       "      Bokeh.embed.inject_css(\"https://cdn.pydata.org/bokeh/release/bokeh-widgets-0.12.3.min.css\");\n",
       "    }\n",
       "  ];\n",
       "\n",
       "  function run_inline_js() {\n",
       "    \n",
       "    if ((window.Bokeh !== undefined) || (force === \"1\")) {\n",
       "      for (var i = 0; i < inline_js.length; i++) {\n",
       "        inline_js[i](window.Bokeh);\n",
       "      }if (force === \"1\") {\n",
       "        display_loaded();\n",
       "      }} else if (Date.now() < window._bokeh_timeout) {\n",
       "      setTimeout(run_inline_js, 100);\n",
       "    } else if (!window._bokeh_failed_load) {\n",
       "      console.log(\"Bokeh: BokehJS failed to load within specified timeout.\");\n",
       "      window._bokeh_failed_load = true;\n",
       "    } else if (!force) {\n",
       "      var cell = $(\"#e10ce1c6-05d6-453a-8ea7-075dfc5dc21a\").parents('.cell').data().cell;\n",
       "      cell.output_area.append_execute_result(NB_LOAD_WARNING)\n",
       "    }\n",
       "\n",
       "  }\n",
       "\n",
       "  if (window._bokeh_is_loading === 0) {\n",
       "    console.log(\"Bokeh: BokehJS loaded, going straight to plotting\");\n",
       "    run_inline_js();\n",
       "  } else {\n",
       "    load_libs(js_urls, function() {\n",
       "      console.log(\"Bokeh: BokehJS plotting callback run at\", now());\n",
       "      run_inline_js();\n",
       "    });\n",
       "  }\n",
       "}(this));"
      ]
     },
     "metadata": {},
     "output_type": "display_data"
    }
   ],
   "source": [
    "import pandas as pd\n",
    "\n",
    "from bokeh.io import output_notebook\n",
    "from bokeh.plotting import figure, show\n",
    "\n",
    "output_notebook()"
   ]
  },
  {
   "cell_type": "code",
   "execution_count": 2,
   "metadata": {
    "collapsed": true
   },
   "outputs": [],
   "source": [
    "DATASET_PATH = \"RobbinsCraterDatabase_20121016.tab/RobbinsCraters_20121016.tab\""
   ]
  },
  {
   "cell_type": "code",
   "execution_count": 20,
   "metadata": {
    "collapsed": false
   },
   "outputs": [
    {
     "name": "stderr",
     "output_type": "stream",
     "text": [
      "/home/jlcano/.miniconda3/envs/py3/lib/python3.5/site-packages/IPython/core/interactiveshell.py:2717: DtypeWarning: Columns (35,36,37,38,39,40,41,69) have mixed types. Specify dtype option on import or set low_memory=False.\n",
      "  interactivity=interactivity, compiler=compiler, result=result)\n"
     ]
    }
   ],
   "source": [
    "data = pd.read_table(DATASET_PATH, delimiter=\"\\t\", encoding='iso-8859-1', index_col=\"CRATER_ID\")"
   ]
  },
  {
   "cell_type": "markdown",
   "metadata": {},
   "source": [
    "How many records are there?"
   ]
  },
  {
   "cell_type": "code",
   "execution_count": 21,
   "metadata": {
    "collapsed": false
   },
   "outputs": [
    {
     "data": {
      "text/plain": [
       "384345"
      ]
     },
     "execution_count": 21,
     "metadata": {},
     "output_type": "execute_result"
    }
   ],
   "source": [
    "len(data)"
   ]
  },
  {
   "cell_type": "markdown",
   "metadata": {},
   "source": [
    "Let's explore **the first rows that have a non-empty crater name**, dropping the empty columns."
   ]
  },
  {
   "cell_type": "code",
   "execution_count": 22,
   "metadata": {
    "collapsed": false
   },
   "outputs": [
    {
     "data": {
      "text/html": [
       "<div>\n",
       "<table border=\"1\" class=\"dataframe\">\n",
       "  <thead>\n",
       "    <tr style=\"text-align: right;\">\n",
       "      <th></th>\n",
       "      <th>LATITUDE_CIRCLE_IMAGE</th>\n",
       "      <th>LONGITUDE_CIRCLE_IMAGE</th>\n",
       "      <th>LATITUDE_ELLIPSE_IMAGE</th>\n",
       "      <th>LONGITUDE_ELLIPSE_IMAGE</th>\n",
       "      <th>DIAM_CIRCLE_IMAGE</th>\n",
       "      <th>DIAM_CIRCLE_SD_IMAGE</th>\n",
       "      <th>DIAM_ELLIPSE_MAJOR_IMAGE</th>\n",
       "      <th>DIAM_ELLIPSE_MINOR_IMAGE</th>\n",
       "      <th>DIAM_ELLIPSE_ECCEN_IMAGE</th>\n",
       "      <th>DIAM_ELLIPSE_ELLIP_IMAGE</th>\n",
       "      <th>...</th>\n",
       "      <th>MORPHOLOGY_EJECTA_1</th>\n",
       "      <th>MORPHOLOGY_EJECTA_2</th>\n",
       "      <th>DEGRADATION_STATE</th>\n",
       "      <th>CONFIDENCE_IMPACT_CRATER</th>\n",
       "      <th>LAYER_1_PERIMETER</th>\n",
       "      <th>LAYER_1_AREA</th>\n",
       "      <th>LAYER_1_LOBATENESS</th>\n",
       "      <th>LAYER_1_EJECTARAD_EQUIV</th>\n",
       "      <th>LAYER_1_EJECTARAD_REL</th>\n",
       "      <th>CRATER_NAME</th>\n",
       "    </tr>\n",
       "    <tr>\n",
       "      <th>CRATER_ID</th>\n",
       "      <th></th>\n",
       "      <th></th>\n",
       "      <th></th>\n",
       "      <th></th>\n",
       "      <th></th>\n",
       "      <th></th>\n",
       "      <th></th>\n",
       "      <th></th>\n",
       "      <th></th>\n",
       "      <th></th>\n",
       "      <th></th>\n",
       "      <th></th>\n",
       "      <th></th>\n",
       "      <th></th>\n",
       "      <th></th>\n",
       "      <th></th>\n",
       "      <th></th>\n",
       "      <th></th>\n",
       "      <th></th>\n",
       "      <th></th>\n",
       "      <th></th>\n",
       "    </tr>\n",
       "  </thead>\n",
       "  <tbody>\n",
       "    <tr>\n",
       "      <th>01-000001</th>\n",
       "      <td>72.760</td>\n",
       "      <td>164.464</td>\n",
       "      <td>72.784</td>\n",
       "      <td>164.464</td>\n",
       "      <td>82.02</td>\n",
       "      <td>0.09</td>\n",
       "      <td>84.17</td>\n",
       "      <td>79.91</td>\n",
       "      <td>0.31</td>\n",
       "      <td>1.05</td>\n",
       "      <td>...</td>\n",
       "      <td>Rd/MLERS</td>\n",
       "      <td>HuBL</td>\n",
       "      <td>3.0</td>\n",
       "      <td>4</td>\n",
       "      <td>NaN</td>\n",
       "      <td>NaN</td>\n",
       "      <td>NaN</td>\n",
       "      <td>NaN</td>\n",
       "      <td>NaN</td>\n",
       "      <td>Korolev</td>\n",
       "    </tr>\n",
       "    <tr>\n",
       "      <th>01-000012</th>\n",
       "      <td>77.170</td>\n",
       "      <td>-145.681</td>\n",
       "      <td>77.165</td>\n",
       "      <td>-145.681</td>\n",
       "      <td>51.08</td>\n",
       "      <td>0.05</td>\n",
       "      <td>51.77</td>\n",
       "      <td>50.43</td>\n",
       "      <td>0.23</td>\n",
       "      <td>1.03</td>\n",
       "      <td>...</td>\n",
       "      <td>Rd</td>\n",
       "      <td>NaN</td>\n",
       "      <td>3.0</td>\n",
       "      <td>4</td>\n",
       "      <td>NaN</td>\n",
       "      <td>NaN</td>\n",
       "      <td>NaN</td>\n",
       "      <td>NaN</td>\n",
       "      <td>NaN</td>\n",
       "      <td>Dokka</td>\n",
       "    </tr>\n",
       "    <tr>\n",
       "      <th>01-000022</th>\n",
       "      <td>81.925</td>\n",
       "      <td>76.714</td>\n",
       "      <td>81.984</td>\n",
       "      <td>76.711</td>\n",
       "      <td>43.57</td>\n",
       "      <td>NaN</td>\n",
       "      <td>43.81</td>\n",
       "      <td>42.91</td>\n",
       "      <td>0.20</td>\n",
       "      <td>1.02</td>\n",
       "      <td>...</td>\n",
       "      <td>NaN</td>\n",
       "      <td>NaN</td>\n",
       "      <td>1.0</td>\n",
       "      <td>4</td>\n",
       "      <td>NaN</td>\n",
       "      <td>NaN</td>\n",
       "      <td>NaN</td>\n",
       "      <td>NaN</td>\n",
       "      <td>NaN</td>\n",
       "      <td>Udzha</td>\n",
       "    </tr>\n",
       "    <tr>\n",
       "      <th>01-000028</th>\n",
       "      <td>70.173</td>\n",
       "      <td>103.226</td>\n",
       "      <td>70.169</td>\n",
       "      <td>103.226</td>\n",
       "      <td>36.28</td>\n",
       "      <td>NaN</td>\n",
       "      <td>36.74</td>\n",
       "      <td>35.83</td>\n",
       "      <td>0.22</td>\n",
       "      <td>1.03</td>\n",
       "      <td>...</td>\n",
       "      <td>SLERS</td>\n",
       "      <td>HuBL</td>\n",
       "      <td>3.0</td>\n",
       "      <td>4</td>\n",
       "      <td>NaN</td>\n",
       "      <td>NaN</td>\n",
       "      <td>NaN</td>\n",
       "      <td>NaN</td>\n",
       "      <td>NaN</td>\n",
       "      <td>Louth</td>\n",
       "    </tr>\n",
       "    <tr>\n",
       "      <th>01-000068</th>\n",
       "      <td>76.887</td>\n",
       "      <td>-54.969</td>\n",
       "      <td>76.889</td>\n",
       "      <td>-54.969</td>\n",
       "      <td>22.11</td>\n",
       "      <td>0.06</td>\n",
       "      <td>22.92</td>\n",
       "      <td>21.34</td>\n",
       "      <td>0.36</td>\n",
       "      <td>1.07</td>\n",
       "      <td>...</td>\n",
       "      <td>SLEPd</td>\n",
       "      <td>HuBL</td>\n",
       "      <td>3.0</td>\n",
       "      <td>4</td>\n",
       "      <td>377.56</td>\n",
       "      <td>2641.22</td>\n",
       "      <td>1.94</td>\n",
       "      <td>19.98</td>\n",
       "      <td>1.81</td>\n",
       "      <td>Escorial</td>\n",
       "    </tr>\n",
       "  </tbody>\n",
       "</table>\n",
       "<p>5 rows × 43 columns</p>\n",
       "</div>"
      ],
      "text/plain": [
       "           LATITUDE_CIRCLE_IMAGE  LONGITUDE_CIRCLE_IMAGE  \\\n",
       "CRATER_ID                                                  \n",
       "01-000001                 72.760                 164.464   \n",
       "01-000012                 77.170                -145.681   \n",
       "01-000022                 81.925                  76.714   \n",
       "01-000028                 70.173                 103.226   \n",
       "01-000068                 76.887                 -54.969   \n",
       "\n",
       "           LATITUDE_ELLIPSE_IMAGE  LONGITUDE_ELLIPSE_IMAGE  DIAM_CIRCLE_IMAGE  \\\n",
       "CRATER_ID                                                                       \n",
       "01-000001                  72.784                  164.464              82.02   \n",
       "01-000012                  77.165                 -145.681              51.08   \n",
       "01-000022                  81.984                   76.711              43.57   \n",
       "01-000028                  70.169                  103.226              36.28   \n",
       "01-000068                  76.889                  -54.969              22.11   \n",
       "\n",
       "           DIAM_CIRCLE_SD_IMAGE  DIAM_ELLIPSE_MAJOR_IMAGE  \\\n",
       "CRATER_ID                                                   \n",
       "01-000001                  0.09                     84.17   \n",
       "01-000012                  0.05                     51.77   \n",
       "01-000022                   NaN                     43.81   \n",
       "01-000028                   NaN                     36.74   \n",
       "01-000068                  0.06                     22.92   \n",
       "\n",
       "           DIAM_ELLIPSE_MINOR_IMAGE  DIAM_ELLIPSE_ECCEN_IMAGE  \\\n",
       "CRATER_ID                                                       \n",
       "01-000001                     79.91                      0.31   \n",
       "01-000012                     50.43                      0.23   \n",
       "01-000022                     42.91                      0.20   \n",
       "01-000028                     35.83                      0.22   \n",
       "01-000068                     21.34                      0.36   \n",
       "\n",
       "           DIAM_ELLIPSE_ELLIP_IMAGE     ...       MORPHOLOGY_EJECTA_1  \\\n",
       "CRATER_ID                               ...                             \n",
       "01-000001                      1.05     ...                  Rd/MLERS   \n",
       "01-000012                      1.03     ...                        Rd   \n",
       "01-000022                      1.02     ...                       NaN   \n",
       "01-000028                      1.03     ...                     SLERS   \n",
       "01-000068                      1.07     ...                     SLEPd   \n",
       "\n",
       "           MORPHOLOGY_EJECTA_2  DEGRADATION_STATE  CONFIDENCE_IMPACT_CRATER  \\\n",
       "CRATER_ID                                                                     \n",
       "01-000001                 HuBL                3.0                         4   \n",
       "01-000012                  NaN                3.0                         4   \n",
       "01-000022                  NaN                1.0                         4   \n",
       "01-000028                 HuBL                3.0                         4   \n",
       "01-000068                 HuBL                3.0                         4   \n",
       "\n",
       "           LAYER_1_PERIMETER  LAYER_1_AREA  LAYER_1_LOBATENESS  \\\n",
       "CRATER_ID                                                        \n",
       "01-000001                NaN           NaN                 NaN   \n",
       "01-000012                NaN           NaN                 NaN   \n",
       "01-000022                NaN           NaN                 NaN   \n",
       "01-000028                NaN           NaN                 NaN   \n",
       "01-000068             377.56       2641.22                1.94   \n",
       "\n",
       "           LAYER_1_EJECTARAD_EQUIV  LAYER_1_EJECTARAD_REL  CRATER_NAME  \n",
       "CRATER_ID                                                               \n",
       "01-000001                      NaN                    NaN      Korolev  \n",
       "01-000012                      NaN                    NaN        Dokka  \n",
       "01-000022                      NaN                    NaN        Udzha  \n",
       "01-000028                      NaN                    NaN        Louth  \n",
       "01-000068                    19.98                   1.81     Escorial  \n",
       "\n",
       "[5 rows x 43 columns]"
      ]
     },
     "execution_count": 22,
     "metadata": {},
     "output_type": "execute_result"
    }
   ],
   "source": [
    "data.dropna(subset=[\"CRATER_NAME\"]).head().dropna(axis=1, how='all')"
   ]
  },
  {
   "cell_type": "markdown",
   "metadata": {},
   "source": [
    "How elliptical are the craters?"
   ]
  },
  {
   "cell_type": "code",
   "execution_count": 23,
   "metadata": {
    "collapsed": false
   },
   "outputs": [
    {
     "data": {
      "text/plain": [
       "count    384336.000000\n",
       "mean          0.424874\n",
       "std           0.134485\n",
       "min           0.020000\n",
       "25%           0.330000\n",
       "50%           0.420000\n",
       "75%           0.510000\n",
       "max           0.980000\n",
       "Name: DIAM_ELLIPSE_ECCEN_IMAGE, dtype: float64"
      ]
     },
     "execution_count": 23,
     "metadata": {},
     "output_type": "execute_result"
    }
   ],
   "source": [
    "data.DIAM_ELLIPSE_ECCEN_IMAGE.describe()"
   ]
  },
  {
   "cell_type": "code",
   "execution_count": 28,
   "metadata": {
    "collapsed": false
   },
   "outputs": [
    {
     "data": {
      "text/html": [
       "\n",
       "\n",
       "    <div class=\"bk-root\">\n",
       "        <div class=\"plotdiv\" id=\"82df2ced-0fb0-48c3-896a-86dad36a0fa0\"></div>\n",
       "    </div>\n",
       "<script type=\"text/javascript\">\n",
       "  \n",
       "  (function(global) {\n",
       "    function now() {\n",
       "      return new Date();\n",
       "    }\n",
       "  \n",
       "    var force = \"\";\n",
       "  \n",
       "    if (typeof (window._bokeh_onload_callbacks) === \"undefined\" || force !== \"\") {\n",
       "      window._bokeh_onload_callbacks = [];\n",
       "      window._bokeh_is_loading = undefined;\n",
       "    }\n",
       "  \n",
       "  \n",
       "    \n",
       "    if (typeof (window._bokeh_timeout) === \"undefined\" || force !== \"\") {\n",
       "      window._bokeh_timeout = Date.now() + 0;\n",
       "      window._bokeh_failed_load = false;\n",
       "    }\n",
       "  \n",
       "    var NB_LOAD_WARNING = {'data': {'text/html':\n",
       "       \"<div style='background-color: #fdd'>\\n\"+\n",
       "       \"<p>\\n\"+\n",
       "       \"BokehJS does not appear to have successfully loaded. If loading BokehJS from CDN, this \\n\"+\n",
       "       \"may be due to a slow or bad network connection. Possible fixes:\\n\"+\n",
       "       \"</p>\\n\"+\n",
       "       \"<ul>\\n\"+\n",
       "       \"<li>re-rerun `output_notebook()` to attempt to load from CDN again, or</li>\\n\"+\n",
       "       \"<li>use INLINE resources instead, as so:</li>\\n\"+\n",
       "       \"</ul>\\n\"+\n",
       "       \"<code>\\n\"+\n",
       "       \"from bokeh.resources import INLINE\\n\"+\n",
       "       \"output_notebook(resources=INLINE)\\n\"+\n",
       "       \"</code>\\n\"+\n",
       "       \"</div>\"}};\n",
       "  \n",
       "    function display_loaded() {\n",
       "      if (window.Bokeh !== undefined) {\n",
       "        Bokeh.$(\"#82df2ced-0fb0-48c3-896a-86dad36a0fa0\").text(\"BokehJS successfully loaded.\");\n",
       "      } else if (Date.now() < window._bokeh_timeout) {\n",
       "        setTimeout(display_loaded, 100)\n",
       "      }\n",
       "    }\n",
       "  \n",
       "    function run_callbacks() {\n",
       "      window._bokeh_onload_callbacks.forEach(function(callback) { callback() });\n",
       "      delete window._bokeh_onload_callbacks\n",
       "      console.info(\"Bokeh: all callbacks have finished\");\n",
       "    }\n",
       "  \n",
       "    function load_libs(js_urls, callback) {\n",
       "      window._bokeh_onload_callbacks.push(callback);\n",
       "      if (window._bokeh_is_loading > 0) {\n",
       "        console.log(\"Bokeh: BokehJS is being loaded, scheduling callback at\", now());\n",
       "        return null;\n",
       "      }\n",
       "      if (js_urls == null || js_urls.length === 0) {\n",
       "        run_callbacks();\n",
       "        return null;\n",
       "      }\n",
       "      console.log(\"Bokeh: BokehJS not loaded, scheduling load and callback at\", now());\n",
       "      window._bokeh_is_loading = js_urls.length;\n",
       "      for (var i = 0; i < js_urls.length; i++) {\n",
       "        var url = js_urls[i];\n",
       "        var s = document.createElement('script');\n",
       "        s.src = url;\n",
       "        s.async = false;\n",
       "        s.onreadystatechange = s.onload = function() {\n",
       "          window._bokeh_is_loading--;\n",
       "          if (window._bokeh_is_loading === 0) {\n",
       "            console.log(\"Bokeh: all BokehJS libraries loaded\");\n",
       "            run_callbacks()\n",
       "          }\n",
       "        };\n",
       "        s.onerror = function() {\n",
       "          console.warn(\"failed to load library \" + url);\n",
       "        };\n",
       "        console.log(\"Bokeh: injecting script tag for BokehJS library: \", url);\n",
       "        document.getElementsByTagName(\"head\")[0].appendChild(s);\n",
       "      }\n",
       "    };var element = document.getElementById(\"82df2ced-0fb0-48c3-896a-86dad36a0fa0\");\n",
       "    if (element == null) {\n",
       "      console.log(\"Bokeh: ERROR: autoload.js configured with elementid '82df2ced-0fb0-48c3-896a-86dad36a0fa0' but no matching script tag was found. \")\n",
       "      return false;\n",
       "    }\n",
       "  \n",
       "    var js_urls = [];\n",
       "  \n",
       "    var inline_js = [\n",
       "      function(Bokeh) {\n",
       "        Bokeh.$(function() {\n",
       "            var docs_json = {\"437ab962-fe81-4a37-b4e0-cb54ecf140a0\":{\"roots\":{\"references\":[{\"attributes\":{\"bottom_units\":\"screen\",\"fill_alpha\":{\"value\":0.5},\"fill_color\":{\"value\":\"lightgrey\"},\"left_units\":\"screen\",\"level\":\"overlay\",\"line_alpha\":{\"value\":1.0},\"line_color\":{\"value\":\"black\"},\"line_dash\":[4,4],\"line_width\":{\"value\":2},\"plot\":null,\"render_mode\":\"css\",\"right_units\":\"screen\",\"top_units\":\"screen\"},\"id\":\"0f3f6611-d489-4645-b05b-84300e464eda\",\"type\":\"BoxAnnotation\"},{\"attributes\":{\"plot\":{\"id\":\"8e1f7934-d67c-4767-ad8f-b04ec1ae21c7\",\"subtype\":\"Figure\",\"type\":\"Plot\"}},\"id\":\"87a5d10a-269f-42d4-a0cb-2b8371e4f6d5\",\"type\":\"HelpTool\"},{\"attributes\":{\"overlay\":{\"id\":\"0f3f6611-d489-4645-b05b-84300e464eda\",\"type\":\"BoxAnnotation\"},\"plot\":{\"id\":\"8e1f7934-d67c-4767-ad8f-b04ec1ae21c7\",\"subtype\":\"Figure\",\"type\":\"Plot\"}},\"id\":\"aade50b6-2ec2-416f-976b-11865bd62f4e\",\"type\":\"BoxZoomTool\"},{\"attributes\":{},\"id\":\"1b4b66d5-7bf1-45ef-ad23-cccb481565bd\",\"type\":\"BasicTicker\"},{\"attributes\":{\"below\":[{\"id\":\"7ed20a1a-f8f5-4646-9549-b5162e8d02aa\",\"type\":\"LinearAxis\"}],\"left\":[{\"id\":\"d4371fd2-4a14-4595-b040-d8f17fc182d2\",\"type\":\"LinearAxis\"}],\"plot_height\":400,\"plot_width\":400,\"renderers\":[{\"id\":\"7ed20a1a-f8f5-4646-9549-b5162e8d02aa\",\"type\":\"LinearAxis\"},{\"id\":\"ee0d117f-d4ab-4577-bce0-7571bc2f1142\",\"type\":\"Grid\"},{\"id\":\"d4371fd2-4a14-4595-b040-d8f17fc182d2\",\"type\":\"LinearAxis\"},{\"id\":\"8d6fcfe0-ea00-4696-bdc3-e870d10c81f0\",\"type\":\"Grid\"},{\"id\":\"0f3f6611-d489-4645-b05b-84300e464eda\",\"type\":\"BoxAnnotation\"},{\"id\":\"34203f34-00ce-438e-a5f1-d7ef49ebf4b7\",\"type\":\"GlyphRenderer\"}],\"title\":{\"id\":\"1221c743-cff6-41cb-9009-b6cb217cc816\",\"type\":\"Title\"},\"tool_events\":{\"id\":\"272414ca-2ca5-4518-ba56-b699ee443f36\",\"type\":\"ToolEvents\"},\"toolbar\":{\"id\":\"16e1ddad-3a78-48c8-b27a-6ab38dae89bb\",\"type\":\"Toolbar\"},\"x_range\":{\"id\":\"c465b3a4-5588-44da-ab33-8f1b0d697a89\",\"type\":\"DataRange1d\"},\"y_range\":{\"id\":\"65d0394d-481e-4e12-8267-9c580b7ed73c\",\"type\":\"DataRange1d\"}},\"id\":\"8e1f7934-d67c-4767-ad8f-b04ec1ae21c7\",\"subtype\":\"Figure\",\"type\":\"Plot\"},{\"attributes\":{\"fill_alpha\":{\"value\":0.1},\"fill_color\":{\"value\":\"#1f77b4\"},\"left\":{\"field\":\"left\"},\"line_alpha\":{\"value\":0.1},\"line_color\":{\"value\":\"#1f77b4\"},\"right\":{\"field\":\"right\"},\"top\":{\"field\":\"top\"}},\"id\":\"7c7db0bb-8127-473e-a990-27562518b2b2\",\"type\":\"Quad\"},{\"attributes\":{\"dimension\":1,\"plot\":{\"id\":\"8e1f7934-d67c-4767-ad8f-b04ec1ae21c7\",\"subtype\":\"Figure\",\"type\":\"Plot\"},\"ticker\":{\"id\":\"c00ab960-f2d7-4100-abad-2eb7db13beb5\",\"type\":\"BasicTicker\"}},\"id\":\"8d6fcfe0-ea00-4696-bdc3-e870d10c81f0\",\"type\":\"Grid\"},{\"attributes\":{},\"id\":\"c00ab960-f2d7-4100-abad-2eb7db13beb5\",\"type\":\"BasicTicker\"},{\"attributes\":{\"callback\":null},\"id\":\"65d0394d-481e-4e12-8267-9c580b7ed73c\",\"type\":\"DataRange1d\"},{\"attributes\":{\"callback\":null},\"id\":\"c465b3a4-5588-44da-ab33-8f1b0d697a89\",\"type\":\"DataRange1d\"},{\"attributes\":{},\"id\":\"272414ca-2ca5-4518-ba56-b699ee443f36\",\"type\":\"ToolEvents\"},{\"attributes\":{\"plot\":{\"id\":\"8e1f7934-d67c-4767-ad8f-b04ec1ae21c7\",\"subtype\":\"Figure\",\"type\":\"Plot\"}},\"id\":\"5d602dc1-96d1-4b9f-935f-83f8276dac95\",\"type\":\"WheelZoomTool\"},{\"attributes\":{},\"id\":\"8d7a87c3-b394-4a7c-881e-2b05c76afa72\",\"type\":\"BasicTickFormatter\"},{\"attributes\":{\"data_source\":{\"id\":\"6b20f0fc-1f06-4a03-98de-31a9e689694d\",\"type\":\"ColumnDataSource\"},\"glyph\":{\"id\":\"4495b131-30ca-447b-826d-9b3d59f946e2\",\"type\":\"Quad\"},\"hover_glyph\":null,\"nonselection_glyph\":{\"id\":\"7c7db0bb-8127-473e-a990-27562518b2b2\",\"type\":\"Quad\"},\"selection_glyph\":null},\"id\":\"34203f34-00ce-438e-a5f1-d7ef49ebf4b7\",\"type\":\"GlyphRenderer\"},{\"attributes\":{},\"id\":\"a3fb5d59-e23d-4ff4-b83a-30abf6013205\",\"type\":\"BasicTickFormatter\"},{\"attributes\":{\"fill_color\":{\"value\":\"#1f77b4\"},\"left\":{\"field\":\"left\"},\"line_color\":{\"value\":\"#1f77b4\"},\"right\":{\"field\":\"right\"},\"top\":{\"field\":\"top\"}},\"id\":\"4495b131-30ca-447b-826d-9b3d59f946e2\",\"type\":\"Quad\"},{\"attributes\":{\"callback\":null,\"column_names\":[\"left\",\"top\",\"right\"],\"data\":{\"left\":[0.02,0.116,0.212,0.30800000000000005,0.404,0.5,0.5960000000000001,0.6920000000000001,0.788,0.884],\"right\":[0.116,0.212,0.30800000000000005,0.404,0.5,0.5960000000000001,0.6920000000000001,0.788,0.884,0.98],\"top\":[0.0446657785548756,0.47836832008104024,1.418653426515687,2.8354367445846003,2.68002802235544,1.8843646358047803,0.7474200092280368,0.2229223474598616,0.09090353232588154,0.0139038497564631]}},\"id\":\"6b20f0fc-1f06-4a03-98de-31a9e689694d\",\"type\":\"ColumnDataSource\"},{\"attributes\":{\"plot\":{\"id\":\"8e1f7934-d67c-4767-ad8f-b04ec1ae21c7\",\"subtype\":\"Figure\",\"type\":\"Plot\"},\"ticker\":{\"id\":\"1b4b66d5-7bf1-45ef-ad23-cccb481565bd\",\"type\":\"BasicTicker\"}},\"id\":\"ee0d117f-d4ab-4577-bce0-7571bc2f1142\",\"type\":\"Grid\"},{\"attributes\":{\"plot\":null,\"text\":null},\"id\":\"1221c743-cff6-41cb-9009-b6cb217cc816\",\"type\":\"Title\"},{\"attributes\":{\"formatter\":{\"id\":\"a3fb5d59-e23d-4ff4-b83a-30abf6013205\",\"type\":\"BasicTickFormatter\"},\"plot\":{\"id\":\"8e1f7934-d67c-4767-ad8f-b04ec1ae21c7\",\"subtype\":\"Figure\",\"type\":\"Plot\"},\"ticker\":{\"id\":\"1b4b66d5-7bf1-45ef-ad23-cccb481565bd\",\"type\":\"BasicTicker\"}},\"id\":\"7ed20a1a-f8f5-4646-9549-b5162e8d02aa\",\"type\":\"LinearAxis\"},{\"attributes\":{\"active_drag\":\"auto\",\"active_scroll\":\"auto\",\"active_tap\":\"auto\",\"tools\":[{\"id\":\"478f5847-a54e-4427-8c93-328e671f4644\",\"type\":\"PanTool\"},{\"id\":\"5d602dc1-96d1-4b9f-935f-83f8276dac95\",\"type\":\"WheelZoomTool\"},{\"id\":\"aade50b6-2ec2-416f-976b-11865bd62f4e\",\"type\":\"BoxZoomTool\"},{\"id\":\"7344b255-6bc4-49c8-a6ee-7adfded4dd37\",\"type\":\"SaveTool\"},{\"id\":\"d16885c0-8d27-48ae-bd72-6c19e34048c6\",\"type\":\"ResetTool\"},{\"id\":\"87a5d10a-269f-42d4-a0cb-2b8371e4f6d5\",\"type\":\"HelpTool\"}]},\"id\":\"16e1ddad-3a78-48c8-b27a-6ab38dae89bb\",\"type\":\"Toolbar\"},{\"attributes\":{\"formatter\":{\"id\":\"8d7a87c3-b394-4a7c-881e-2b05c76afa72\",\"type\":\"BasicTickFormatter\"},\"plot\":{\"id\":\"8e1f7934-d67c-4767-ad8f-b04ec1ae21c7\",\"subtype\":\"Figure\",\"type\":\"Plot\"},\"ticker\":{\"id\":\"c00ab960-f2d7-4100-abad-2eb7db13beb5\",\"type\":\"BasicTicker\"}},\"id\":\"d4371fd2-4a14-4595-b040-d8f17fc182d2\",\"type\":\"LinearAxis\"},{\"attributes\":{\"plot\":{\"id\":\"8e1f7934-d67c-4767-ad8f-b04ec1ae21c7\",\"subtype\":\"Figure\",\"type\":\"Plot\"}},\"id\":\"d16885c0-8d27-48ae-bd72-6c19e34048c6\",\"type\":\"ResetTool\"},{\"attributes\":{\"plot\":{\"id\":\"8e1f7934-d67c-4767-ad8f-b04ec1ae21c7\",\"subtype\":\"Figure\",\"type\":\"Plot\"}},\"id\":\"478f5847-a54e-4427-8c93-328e671f4644\",\"type\":\"PanTool\"},{\"attributes\":{\"plot\":{\"id\":\"8e1f7934-d67c-4767-ad8f-b04ec1ae21c7\",\"subtype\":\"Figure\",\"type\":\"Plot\"}},\"id\":\"7344b255-6bc4-49c8-a6ee-7adfded4dd37\",\"type\":\"SaveTool\"}],\"root_ids\":[\"8e1f7934-d67c-4767-ad8f-b04ec1ae21c7\"]},\"title\":\"Bokeh Application\",\"version\":\"0.12.3\"}};\n",
       "            var render_items = [{\"docid\":\"437ab962-fe81-4a37-b4e0-cb54ecf140a0\",\"elementid\":\"82df2ced-0fb0-48c3-896a-86dad36a0fa0\",\"modelid\":\"8e1f7934-d67c-4767-ad8f-b04ec1ae21c7\"}];\n",
       "            \n",
       "            Bokeh.embed.embed_items(docs_json, render_items);\n",
       "        });\n",
       "      },\n",
       "      function(Bokeh) {\n",
       "      }\n",
       "    ];\n",
       "  \n",
       "    function run_inline_js() {\n",
       "      \n",
       "      if ((window.Bokeh !== undefined) || (force === \"1\")) {\n",
       "        for (var i = 0; i < inline_js.length; i++) {\n",
       "          inline_js[i](window.Bokeh);\n",
       "        }if (force === \"1\") {\n",
       "          display_loaded();\n",
       "        }} else if (Date.now() < window._bokeh_timeout) {\n",
       "        setTimeout(run_inline_js, 100);\n",
       "      } else if (!window._bokeh_failed_load) {\n",
       "        console.log(\"Bokeh: BokehJS failed to load within specified timeout.\");\n",
       "        window._bokeh_failed_load = true;\n",
       "      } else if (!force) {\n",
       "        var cell = $(\"#82df2ced-0fb0-48c3-896a-86dad36a0fa0\").parents('.cell').data().cell;\n",
       "        cell.output_area.append_execute_result(NB_LOAD_WARNING)\n",
       "      }\n",
       "  \n",
       "    }\n",
       "  \n",
       "    if (window._bokeh_is_loading === 0) {\n",
       "      console.log(\"Bokeh: BokehJS loaded, going straight to plotting\");\n",
       "      run_inline_js();\n",
       "    } else {\n",
       "      load_libs(js_urls, function() {\n",
       "        console.log(\"Bokeh: BokehJS plotting callback run at\", now());\n",
       "        run_inline_js();\n",
       "      });\n",
       "    }\n",
       "  }(this));\n",
       "</script>"
      ]
     },
     "metadata": {},
     "output_type": "display_data"
    }
   ],
   "source": [
    "diameters = data['DIAM_ELLIPSE_ECCEN_IMAGE'].dropna()\n",
    "hist, edges = np.histogram(diameters, density=True)\n",
    "\n",
    "p = figure(width=400, height=400)\n",
    "p.quad(top=hist, left=edges[:-1], right=edges[1:])\n",
    "show(p)"
   ]
  },
  {
   "cell_type": "markdown",
   "metadata": {},
   "source": [
    "How many craters were below and above 3 km of diameter?"
   ]
  },
  {
   "cell_type": "code",
   "execution_count": 35,
   "metadata": {
    "collapsed": false
   },
   "outputs": [
    {
     "data": {
      "text/plain": [
       "0.7922309383496599"
      ]
     },
     "execution_count": 35,
     "metadata": {},
     "output_type": "execute_result"
    }
   ],
   "source": [
    "len(data[data['DIAM_CIRCLE_IMAGE'] < 3]) / len(data)"
   ]
  },
  {
   "cell_type": "code",
   "execution_count": 36,
   "metadata": {
    "collapsed": false
   },
   "outputs": [
    {
     "data": {
      "text/plain": [
       "0.20776906165034018"
      ]
     },
     "execution_count": 36,
     "metadata": {},
     "output_type": "execute_result"
    }
   ],
   "source": [
    "len(data[data['DIAM_CIRCLE_IMAGE'] >= 3]) / len(data)"
   ]
  }
 ],
 "metadata": {
  "anaconda-cloud": {},
  "kernelspec": {
   "display_name": "Python [conda env:py3]",
   "language": "python",
   "name": "conda-env-py3-py"
  },
  "language_info": {
   "codemirror_mode": {
    "name": "ipython",
    "version": 3
   },
   "file_extension": ".py",
   "mimetype": "text/x-python",
   "name": "python",
   "nbconvert_exporter": "python",
   "pygments_lexer": "ipython3",
   "version": "3.5.2"
  }
 },
 "nbformat": 4,
 "nbformat_minor": 1
}
